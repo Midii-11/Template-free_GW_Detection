{
  "nbformat": 4,
  "nbformat_minor": 0,
  "metadata": {
    "colab": {
      "name": "RBM_Notebook.ipynb",
      "provenance": [],
      "collapsed_sections": []
    },
    "kernelspec": {
      "name": "python3",
      "display_name": "Python 3"
    }
  },
  "cells": [
    {
      "cell_type": "code",
      "metadata": {
        "id": "zlmFfClziT1n",
        "colab_type": "code",
        "colab": {
          "base_uri": "https://localhost:8080/",
          "height": 407
        },
        "outputId": "23a2a98d-3e1a-42f4-98cf-c2b65da1384e"
      },
      "source": [
        "!pip install gwpy\n",
        "%tensorflow_version 1.x"
      ],
      "execution_count": null,
      "outputs": [
        {
          "output_type": "stream",
          "text": [
            "Requirement already satisfied: gwpy in /usr/local/lib/python3.6/dist-packages (1.0.1)\n",
            "Requirement already satisfied: matplotlib!=2.1.0,!=2.1.1,>=1.2.0 in /usr/local/lib/python3.6/dist-packages (from gwpy) (3.2.2)\n",
            "Requirement already satisfied: six>=1.5 in /usr/local/lib/python3.6/dist-packages (from gwpy) (1.12.0)\n",
            "Requirement already satisfied: gwdatafind in /usr/local/lib/python3.6/dist-packages (from gwpy) (1.0.4)\n",
            "Requirement already satisfied: scipy>=0.12.1 in /usr/local/lib/python3.6/dist-packages (from gwpy) (1.4.1)\n",
            "Requirement already satisfied: dqsegdb2 in /usr/local/lib/python3.6/dist-packages (from gwpy) (1.0.1)\n",
            "Requirement already satisfied: gwosc>=0.4.0 in /usr/local/lib/python3.6/dist-packages (from gwpy) (0.5.3)\n",
            "Requirement already satisfied: astropy>=1.3.0; python_version >= \"3.5\" in /usr/local/lib/python3.6/dist-packages (from gwpy) (4.0.1.post1)\n",
            "Requirement already satisfied: ligotimegps>=1.2.1 in /usr/local/lib/python3.6/dist-packages (from gwpy) (2.0.1)\n",
            "Requirement already satisfied: numpy>=1.7.1 in /usr/local/lib/python3.6/dist-packages (from gwpy) (1.18.5)\n",
            "Requirement already satisfied: python-dateutil in /usr/local/lib/python3.6/dist-packages (from gwpy) (2.8.1)\n",
            "Requirement already satisfied: tqdm>=4.10.0 in /usr/local/lib/python3.6/dist-packages (from gwpy) (4.41.1)\n",
            "Requirement already satisfied: ligo-segments>=1.0.0 in /usr/local/lib/python3.6/dist-packages (from gwpy) (1.2.0)\n",
            "Requirement already satisfied: h5py>=1.3 in /usr/local/lib/python3.6/dist-packages (from gwpy) (2.10.0)\n",
            "Requirement already satisfied: pyparsing!=2.0.4,!=2.1.2,!=2.1.6,>=2.0.1 in /usr/local/lib/python3.6/dist-packages (from matplotlib!=2.1.0,!=2.1.1,>=1.2.0->gwpy) (2.4.7)\n",
            "Requirement already satisfied: kiwisolver>=1.0.1 in /usr/local/lib/python3.6/dist-packages (from matplotlib!=2.1.0,!=2.1.1,>=1.2.0->gwpy) (1.2.0)\n",
            "Requirement already satisfied: cycler>=0.10 in /usr/local/lib/python3.6/dist-packages (from matplotlib!=2.1.0,!=2.1.1,>=1.2.0->gwpy) (0.10.0)\n",
            "Requirement already satisfied: pyOpenSSL in /usr/local/lib/python3.6/dist-packages (from gwdatafind->gwpy) (19.1.0)\n",
            "Requirement already satisfied: cryptography>=2.8 in /usr/local/lib/python3.6/dist-packages (from pyOpenSSL->gwdatafind->gwpy) (2.9.2)\n",
            "Requirement already satisfied: cffi!=1.11.3,>=1.8 in /usr/local/lib/python3.6/dist-packages (from cryptography>=2.8->pyOpenSSL->gwdatafind->gwpy) (1.14.0)\n",
            "Requirement already satisfied: pycparser in /usr/local/lib/python3.6/dist-packages (from cffi!=1.11.3,>=1.8->cryptography>=2.8->pyOpenSSL->gwdatafind->gwpy) (2.20)\n",
            "TensorFlow 1.x selected.\n"
          ],
          "name": "stdout"
        }
      ]
    },
    {
      "cell_type": "code",
      "metadata": {
        "id": "hKu59vdG-HhQ",
        "colab_type": "code",
        "colab": {}
      },
      "source": [
        "from __future__ import print_function\n",
        "\n",
        "import tensorflow as tf\n",
        "import numpy as np\n",
        "import sys\n",
        "from tqdm import tqdm\n",
        "\n",
        "from gwpy.timeseries import TimeSeries\n",
        "import time\n",
        "from gwpy.time import tconvert\n",
        "import matplotlib.pyplot as plt"
      ],
      "execution_count": null,
      "outputs": []
    },
    {
      "cell_type": "code",
      "metadata": {
        "id": "1az67Tco-Qtp",
        "colab_type": "code",
        "colab": {
          "base_uri": "https://localhost:8080/",
          "height": 70
        },
        "outputId": "3309506e-de34-4a77-8993-fb27a480ff71"
      },
      "source": [
        "from google.colab import drive\n",
        "drive.mount('/content/gdrive/')\n"
      ],
      "execution_count": null,
      "outputs": [
        {
          "output_type": "stream",
          "text": [
            "Drive already mounted at /content/gdrive/; to attempt to forcibly remount, call drive.mount(\"/content/gdrive/\", force_remount=True).\n",
            "[Errno 2] No such file or directory: 'My Drive/ML/mrp/rbm'\n",
            "/content/gdrive/My Drive/ML\n"
          ],
          "name": "stdout"
        }
      ]
    },
    {
      "cell_type": "code",
      "metadata": {
        "id": "He7nYLGrsCOD",
        "colab_type": "code",
        "colab": {
          "base_uri": "https://localhost:8080/",
          "height": 70
        },
        "outputId": "0451bc0d-7378-48f0-a474-d3550cf74ec5"
      },
      "source": [
        "%cd My\\ Drive/ML/mrp/rbm\n",
        "!pwd\n"
      ],
      "execution_count": null,
      "outputs": [
        {
          "output_type": "stream",
          "text": [
            "[Errno 2] No such file or directory: 'My Drive/ML/mrp/rbm'\n",
            "/content/gdrive/My Drive/ML\n",
            "/content/gdrive/My Drive/ML\n"
          ],
          "name": "stdout"
        }
      ]
    },
    {
      "cell_type": "markdown",
      "metadata": {
        "id": "NzL10Ob0Dy4d",
        "colab_type": "text"
      },
      "source": [
        "# RBM Implementation\n"
      ]
    },
    {
      "cell_type": "code",
      "metadata": {
        "id": "rXdJjqhR0kdv",
        "colab_type": "code",
        "colab": {}
      },
      "source": [
        "from __future__ import print_function\n",
        "\n",
        "import tensorflow as tf\n",
        "import numpy as np\n",
        "import sys\n",
        "from tqdm import tqdm\n",
        "\n",
        "# Copyright (c) 2016 Michal Lukac, Egor Malykh\n",
        "# Todo its an MIT license so we can use it but check whats about the changes and where to credit\n",
        "\n",
        "class RBM:\n",
        "    def __init__(self,\n",
        "                 n_visible,\n",
        "                 n_hidden,\n",
        "                 learning_rate=0.01,\n",
        "                 momentum=0.95,\n",
        "                 xavier_const=1.0,\n",
        "                 err_function='cosine',\n",
        "                 use_tqdm=False):\n",
        "\n",
        "        self.sample_visible = False\n",
        "        self.sigma = 1\n",
        "        if not 0.0 <= momentum <= 1.0:\n",
        "            raise ValueError('momentum should be in range [0, 1]')\n",
        "\n",
        "        if err_function not in {'mse', 'cosine'}:\n",
        "            raise ValueError('err_function should be either \\'mse\\' or \\'cosine\\'')\n",
        "\n",
        "        self._use_tqdm = use_tqdm\n",
        "        self._tqdm = None\n",
        "\n",
        "        if use_tqdm or tqdm is not None:\n",
        "            self._tqdm = tqdm\n",
        "        self.n_visible = n_visible\n",
        "        self.n_hidden = n_hidden\n",
        "        self.learning_rate = learning_rate\n",
        "        self.momentum = momentum\n",
        "\n",
        "        self.sample = tf.placeholder(tf.float32, [self.n_visible])\n",
        "        self.x = tf.placeholder(tf.float32, [None, self.n_visible])\n",
        "        self.y = tf.placeholder(tf.float32, [None, self.n_hidden])\n",
        "\n",
        "        self.w = tf.Variable(tf_xavier_init(n_visible, n_hidden), dtype=tf.float32)\n",
        "        self.visible_bias = tf.Variable(tf.zeros([self.n_visible]), dtype=tf.float32)\n",
        "        self.hidden_bias = tf.Variable(tf.zeros([self.n_hidden]), dtype=tf.float32)\n",
        "\n",
        "        self.delta_w = tf.Variable(tf.zeros([self.n_visible, self.n_hidden]), dtype=tf.float32)\n",
        "        self.delta_visible_bias = tf.Variable(tf.zeros([self.n_visible]), dtype=tf.float32)\n",
        "        self.delta_hidden_bias = tf.Variable(tf.zeros([self.n_hidden]), dtype=tf.float32)\n",
        "\n",
        "        self.update_weights = None\n",
        "        self.update_deltas = None\n",
        "        self.compute_hidden = None\n",
        "        self.compute_visible = None\n",
        "        self.compute_visible_from_hidden = None\n",
        "\n",
        "        self._initialize_vars()\n",
        "\n",
        "        assert self.update_weights is not None\n",
        "        assert self.update_deltas is not None\n",
        "        assert self.compute_hidden is not None\n",
        "        assert self.compute_visible is not None\n",
        "        assert self.compute_visible_from_hidden is not None\n",
        "\n",
        "        # Todo change error function\n",
        "        if err_function == 'cosine':\n",
        "            x1_norm = tf.nn.l2_normalize(self.x, 1)\n",
        "            x2_norm = tf.nn.l2_normalize(self.compute_visible, 1)\n",
        "            cos_val = tf.reduce_mean(tf.reduce_sum(tf.math.multiply(x1_norm, x2_norm), 1))\n",
        "            self.compute_err = tf.acos(cos_val) / tf.constant(np.pi)\n",
        "        else:\n",
        "            self.compute_err = tf.reduce_mean(tf.square(self.x - self.compute_visible))\n",
        "\n",
        "        init = tf.global_variables_initializer()\n",
        "        self.sess = tf.Session()\n",
        "        self.sess.run(init)\n",
        "\n",
        "    def _initialize_vars(self):\n",
        "        hidden_p = tf.nn.sigmoid(tf.matmul(self.x, self.w) + self.hidden_bias)\n",
        "        visible_recon_p = tf.matmul(sample_bernoulli(hidden_p), tf.transpose(self.w)) + self.visible_bias\n",
        "\n",
        "        if self.sample_visible:\n",
        "            visible_recon_p = sample_gaussian(visible_recon_p, self.sigma)\n",
        "\n",
        "        hidden_recon_p = tf.nn.sigmoid(tf.matmul(visible_recon_p, self.w) + self.hidden_bias)\n",
        "\n",
        "        positive_grad = tf.matmul(tf.transpose(self.x), hidden_p)\n",
        "        negative_grad = tf.matmul(tf.transpose(visible_recon_p), hidden_recon_p)\n",
        "\n",
        "        def f(x_old, x_new):\n",
        "            return self.momentum * x_old + \\\n",
        "                   self.learning_rate * x_new * (1 - self.momentum) / tf.to_float(tf.shape(x_new)[0])\n",
        "\n",
        "        delta_w_new = f(self.delta_w, positive_grad - negative_grad)\n",
        "        delta_visible_bias_new = f(self.delta_visible_bias, tf.reduce_mean(self.x - visible_recon_p, 0))\n",
        "        delta_hidden_bias_new = f(self.delta_hidden_bias, tf.reduce_mean(hidden_p - hidden_recon_p, 0))\n",
        "\n",
        "        update_delta_w = self.delta_w.assign(delta_w_new)\n",
        "        update_delta_visible_bias = self.delta_visible_bias.assign(delta_visible_bias_new)\n",
        "        update_delta_hidden_bias = self.delta_hidden_bias.assign(delta_hidden_bias_new)\n",
        "\n",
        "        update_w = self.w.assign(self.w + delta_w_new)\n",
        "        update_visible_bias = self.visible_bias.assign(self.visible_bias + delta_visible_bias_new)\n",
        "        update_hidden_bias = self.hidden_bias.assign(self.hidden_bias + delta_hidden_bias_new)\n",
        "\n",
        "        self.update_deltas = [update_delta_w, update_delta_visible_bias, update_delta_hidden_bias]\n",
        "        self.update_weights = [update_w, update_visible_bias, update_hidden_bias]\n",
        "\n",
        "        self.compute_hidden = tf.nn.sigmoid(tf.matmul(self.x, self.w) + self.hidden_bias)\n",
        "        self.compute_visible = tf.matmul(self.compute_hidden, tf.transpose(self.w)) + self.visible_bias\n",
        "        self.compute_visible_from_hidden = tf.matmul(self.y, tf.transpose(self.w)) + self.visible_bias\n",
        "\n",
        "        self.wx_b = tf.tensordot(tf.cast(self.sample,tf.float32), self.w, axes=1) + self.hidden_bias \n",
        "        self.vbias_term = tf.tensordot(tf.cast(self.sample,tf.float32),self.visible_bias, axes=0)  \n",
        "        self.hidden_term = tf.reduce_sum(tf.math.log(1 +  tf.math.exp(self.wx_b)),  reduction_indices=[0])       \n",
        "\n",
        "    def get_err(self, batch_x):\n",
        "        return self.sess.run(self.compute_err, feed_dict={self.x: batch_x})\n",
        "\n",
        "    def get_free_energy(self, sample):             \n",
        "        # vbias_term = self.sess.run(self.vbias_term, feed_dict={self.x : sample})\n",
        "        return self.sess.run(-self.hidden_term - self.vbias_term, feed_dict={self.sample : sample})[0,0]\n",
        "               \n",
        "        # print('vbias',vbias_term.shape) \n",
        "  \n",
        "        \n",
        "        # tf.print( hidden_term)\n",
        "       \n",
        "        # return -hidden_term - vbias_term\n",
        "\n",
        "    def transform(self, batch_x):\n",
        "        return self.sess.run(self.compute_hidden, feed_dict={self.x: batch_x})\n",
        "\n",
        "    def transform_inv(self, batch_y):\n",
        "        return self.sess.run(self.compute_visible_from_hidden, feed_dict={self.y: batch_y})\n",
        "\n",
        "    def reconstruct(self, batch_x):\n",
        "        return self.sess.run(self.compute_visible, feed_dict={self.x: batch_x})\n",
        "\n",
        "    def partial_fit(self, batch_x):\n",
        "        self.sess.run(self.update_weights + self.update_deltas, feed_dict={self.x: batch_x})\n",
        "\n",
        "    def fit(self,\n",
        "            data_x,\n",
        "            n_epoches=10,\n",
        "            batch_size=10,\n",
        "            shuffle=False,\n",
        "            verbose=True):\n",
        "        assert n_epoches > 0\n",
        "\n",
        "        n_data = data_x.shape[0]\n",
        "\n",
        "        if batch_size > 0:\n",
        "            n_batches = n_data // batch_size + (0 if n_data % batch_size == 0 else 1)\n",
        "        else:\n",
        "            n_batches = 1\n",
        "\n",
        "        if shuffle:\n",
        "            data_x_cpy = data_x.copy()\n",
        "            inds = np.arange(n_data)\n",
        "        else:\n",
        "            data_x_cpy = data_x\n",
        "\n",
        "        errs = []\n",
        "\n",
        "        for e in range(n_epoches):\n",
        "            if verbose and not self._use_tqdm:\n",
        "                print('Epoch: {:d}'.format(e))\n",
        "\n",
        "            epoch_errs = np.zeros((n_batches,))\n",
        "            epoch_errs_ptr = 0\n",
        "\n",
        "            if shuffle:\n",
        "                np.random.shuffle(inds)\n",
        "                data_x_cpy = data_x_cpy[inds]\n",
        "\n",
        "            r_batches = range(n_batches)\n",
        "\n",
        "            if verbose and self._use_tqdm:\n",
        "                r_batches = self._tqdm(r_batches, desc='Epoch: {:d}'.format(e), ascii=True, file=sys.stdout)\n",
        "\n",
        "            for b in r_batches:\n",
        "                batch_x = data_x_cpy[b * batch_size:(b + 1) * batch_size]\n",
        "                self.partial_fit(batch_x)\n",
        "                batch_err = self.get_err(batch_x)\n",
        "                epoch_errs[epoch_errs_ptr] = batch_err\n",
        "                epoch_errs_ptr += 1\n",
        "\n",
        "            if verbose:\n",
        "                err_mean = epoch_errs.mean()\n",
        "                if self._use_tqdm:\n",
        "                    self._tqdm.write('Train error: {:.4f}'.format(err_mean))\n",
        "                    self._tqdm.write('')\n",
        "                else:\n",
        "                    print('Train error: {:.4f}'.format(err_mean))\n",
        "                    print('')\n",
        "                sys.stdout.flush()\n",
        "\n",
        "            errs = np.hstack([errs, epoch_errs])\n",
        "\n",
        "        return errs\n",
        "\n",
        "    def get_weights(self):\n",
        "        return self.sess.run(self.w), \\\n",
        "               self.sess.run(self.visible_bias), \\\n",
        "               self.sess.run(self.hidden_bias)\n",
        "\n",
        "    def save_weights(self, filename, name):\n",
        "        saver = tf.train.Saver({name + '_w': self.w,\n",
        "                                name + '_v': self.visible_bias,\n",
        "                                name + '_h': self.hidden_bias})\n",
        "        return saver.save(self.sess, filename)\n",
        "\n",
        "    def set_weights(self, w, visible_bias, hidden_bias):\n",
        "        self.sess.run(self.w.assign(w))\n",
        "        self.sess.run(self.visible_bias.assign(visible_bias))\n",
        "        self.sess.run(self.hidden_bias.assign(hidden_bias))\n",
        "\n",
        "    def load_weights(self, filename, name):\n",
        "        saver = tf.train.Saver({name + '_w': self.w,\n",
        "                                name + '_v': self.visible_bias,\n",
        "                                name + '_h': self.hidden_bias})\n",
        "        saver.restore(self.sess, filename)\n",
        "\n",
        "\n",
        "def tf_xavier_init(fan_in, fan_out, const=1.0, dtype=np.float32):\n",
        "    k = const * np.sqrt(6.0 / (2 + int(fan_out)))\n",
        "    return tf.random_uniform(np.array([fan_in, fan_out]), minval=-k, maxval=k, dtype=dtype)\n",
        "\n",
        "\n",
        "def sample_bernoulli(probs):\n",
        "    return tf.nn.relu(tf.sign(probs - tf.random_uniform(tf.shape(probs))))\n",
        "\n",
        "\n",
        "def sample_gaussian(x, sigma):\n",
        "    return x + tf.random_normal(tf.shape(x), mean=0.0, stddev=sigma, dtype=tf.float32)\n"
      ],
      "execution_count": null,
      "outputs": []
    },
    {
      "cell_type": "markdown",
      "metadata": {
        "id": "JddhON7J0seg",
        "colab_type": "text"
      },
      "source": [
        "# Prepare Data"
      ]
    },
    {
      "cell_type": "code",
      "metadata": {
        "id": "pP4nqpWRwYiS",
        "colab_type": "code",
        "colab": {}
      },
      "source": [
        "#change the top two parameters (play around with different frequencies, but higher might result in crashed due to memory usage)\n",
        "sample_frequency = 1024\n",
        "n_samples = 1000\n",
        "start = 1187529256\n",
        "\n",
        "def pretty(t):\n",
        "  return tconvert(t).strftime(\"%a, %d %b %Y %H:%M:%S %Z\")\n",
        "\n",
        "def fetch(i=0, start=1126259446, delta=32):\n",
        "  halfdelta=delta/2\n",
        "  s,e=start+(delta*i)-halfdelta, start+(delta*(i+1))-halfdelta\n",
        "  print(\"Fetching data for {0} to {1}\".format(pretty(s), pretty(e)))\n",
        "  hdata = TimeSeries.fetch_open_data('H1', s, e, cache=True)\n",
        "  ldata = TimeSeries.fetch_open_data('L1', s, e, cache=True)\n",
        "  # print(\"{0} points for H, {1} points for L\".format(len(hdata), len(ldata)))\n",
        "  return (hdata, ldata)\n",
        "\n",
        "def filter_gwe(data:TimeSeries):\n",
        "  from gwpy.signal import filter_design\n",
        "  bp = filter_design.bandpass(50, 250, data.sample_rate)\n",
        "  notches = [filter_design.notch(line, data.sample_rate) for line in (60, 120, 180)]\n",
        "  zpk = filter_design.concatenate_zpks(bp, *notches)\n",
        "  filt = data.filter(zpk, filtfilt=True)\n",
        "  data = data.crop(*data.span.contract(1))\n",
        "  filt = filt.crop(*filt.span.contract(1))\n",
        "  resample = filt.resample(sample_frequency)\n",
        "  return resample\n",
        "\n",
        "def scale(data):\n",
        "  avg = np.average(data)\n",
        "  sigma = np.std(data)\n",
        "  return (data - avg) / sigma\n",
        "\n",
        "print(\"Sampling\", n_samples, \"datapoints at\",sample_frequency,\"Hz\")\n",
        "data_h, data_l = fetch(start=start, delta=8)\n",
        "test_sample = filter_gwe(data_h)\n",
        "data_points = len(test_sample)\n",
        "x_train = np.zeros((n_samples,data_points*2))\n",
        "for i in range(1,n_samples):\n",
        "  e = start + (8 * i)\n",
        "  data_h, data_l = fetch(start=e, delta=8)\n",
        "  filt_h = np.asarray(filter_gwe(data_h))\n",
        "  filt_h = scale(filt_h)\n",
        "  filt_l = np.asarray(filter_gwe(data_l))\n",
        "  filt_l = scale(filt_l)\n",
        "  x_train[i,0:len(filt_h)] = filt_h\n",
        "  x_train[i,len(filt_h):] = filt_l\n",
        "  print(i)\n",
        "np.save('x_train_rbm.npy',x_train)\n",
        "x_train = np.load('x_train_rbm.npy')\n",
        "#   # plt.subplot(3,1,1)\n",
        "#   # plt.plot(data)\n",
        "#   # plt.subplot(3,1,2)\n",
        "#   plt.plot(filt)\n",
        "#   # plt.subplot(3,1,3)\n",
        "#   # (data.spectrogram(3, fftlength=3, overlap=2) ** (1/2.)).plot()\n",
        "#   plt.show()"
      ],
      "execution_count": null,
      "outputs": []
    },
    {
      "cell_type": "code",
      "metadata": {
        "id": "jNNWwxi32K08",
        "colab_type": "code",
        "colab": {
          "base_uri": "https://localhost:8080/",
          "height": 247
        },
        "outputId": "baa6391e-ac82-4623-d551-83a9b586e538"
      },
      "source": [
        "print(\"Sampling\", n_samples, \"datapoints at\",sample_frequency,\"Hz\")\n",
        "data_h, data_l = fetch(start=start, delta=8)\n",
        "test_sample = filter_gwe(data_h)\n",
        "data_points = len(test_sample)\n",
        "\n",
        "recorded_events=[1126259462, 1128678900, 1135136350, 1167559936, 1180922494, 1185389807, 1186302519, 1186741861, 1187008882, 1187058327, 1187529256]\n",
        "events = np.zeros((len(recorded_events), data_points*2))\n",
        "for i in range(len(recorded_events)):\n",
        "  data_h, data_l = fetch(start=recorded_events[i], delta=8)\n",
        "  filt_h = np.asarray(filter_gwe(data_h))\n",
        "  filt_h = scale(filt_h)\n",
        "  filt_l = np.asarray(filter_gwe(data_l))\n",
        "  filt_l = scale(filt_l)\n",
        "  events[i,0:len(filt_h)] = filt_h\n",
        "  events[i,len(filt_h):] = filt_l\n",
        "\n",
        "np.save('events.npy',events)"
      ],
      "execution_count": null,
      "outputs": [
        {
          "output_type": "stream",
          "text": [
            "Sampling 300 datapoints at 1024 Hz\n",
            "Fetching data for Wed, 23 Aug 2017 13:13:54  to Wed, 23 Aug 2017 13:14:02 \n",
            "Fetching data for Mon, 14 Sep 2015 09:50:41  to Mon, 14 Sep 2015 09:50:49 \n",
            "Fetching data for Mon, 12 Oct 2015 09:54:39  to Mon, 12 Oct 2015 09:54:47 \n",
            "Fetching data for Sat, 26 Dec 2015 03:38:49  to Sat, 26 Dec 2015 03:38:57 \n",
            "Fetching data for Wed, 04 Jan 2017 10:11:54  to Wed, 04 Jan 2017 10:12:02 \n",
            "Fetching data for Thu, 08 Jun 2017 02:01:12  to Thu, 08 Jun 2017 02:01:20 \n",
            "Fetching data for Sat, 29 Jul 2017 18:56:25  to Sat, 29 Jul 2017 18:56:33 \n",
            "Fetching data for Wed, 09 Aug 2017 08:28:17  to Wed, 09 Aug 2017 08:28:25 \n",
            "Fetching data for Mon, 14 Aug 2017 10:30:39  to Mon, 14 Aug 2017 10:30:47 \n",
            "Fetching data for Thu, 17 Aug 2017 12:41:00  to Thu, 17 Aug 2017 12:41:08 \n",
            "Fetching data for Fri, 18 Aug 2017 02:25:05  to Fri, 18 Aug 2017 02:25:13 \n",
            "Fetching data for Wed, 23 Aug 2017 13:13:54  to Wed, 23 Aug 2017 13:14:02 \n"
          ],
          "name": "stdout"
        }
      ]
    },
    {
      "cell_type": "markdown",
      "metadata": {
        "id": "5gfVSaMU0xWS",
        "colab_type": "text"
      },
      "source": [
        "# Train RBM"
      ]
    },
    {
      "cell_type": "code",
      "metadata": {
        "id": "kry5plhM01H_",
        "colab_type": "code",
        "colab": {}
      },
      "source": [
        "#first parameter is the number of visible units (restriced by data format) & the number of hidden units is the second parameter\n",
        "rbm = RBM((data_points*2), (data_points*3), learning_rate=0.01, momentum=0.95, xavier_const=1.0, use_tqdm=True)\n",
        "rbm.fit(x_train, n_epoches=10, batch_size=20)\n",
        "# # Check saving works befor training for a long time!!!\n",
        "rbm.save_weights(filename='rbm-weights', name='rbm-weights')"
      ],
      "execution_count": null,
      "outputs": []
    },
    {
      "cell_type": "code",
      "metadata": {
        "id": "kApzTK4yrDOn",
        "colab_type": "code",
        "colab": {
          "base_uri": "https://localhost:8080/",
          "height": 52
        },
        "outputId": "23d3585f-a59f-4b8f-ff9b-f68e346f6636"
      },
      "source": [
        "rbm = RBM((data_points*2), (data_points*3), learning_rate=0.01, momentum=0.95, xavier_const=1.0, use_tqdm=True)\n",
        "rbm.load_weights(filename='rbm-weights', name='rbm-weights')\n",
        "result = rbm.get_free_energy(x_train[1])\n",
        "print(result)"
      ],
      "execution_count": null,
      "outputs": [
        {
          "output_type": "stream",
          "text": [
            "INFO:tensorflow:Restoring parameters from rbm-weights\n",
            "-15537.223\n"
          ],
          "name": "stdout"
        }
      ]
    },
    {
      "cell_type": "code",
      "metadata": {
        "id": "1JNMCnb7EYOY",
        "colab_type": "code",
        "colab": {
          "base_uri": "https://localhost:8080/",
          "height": 337
        },
        "outputId": "a3a8970a-a783-46a2-f683-abb9bbf02c90"
      },
      "source": [
        "test_samples = np.zeros((x_train.shape[0]))\n",
        "for i in range(x_train.shape[0]):\n",
        "  test_samples[i] = rbm.get_free_energy(x_train[i])\n",
        "\n",
        "print(test_samples)\n",
        "plt.plot(test_samples)"
      ],
      "execution_count": null,
      "outputs": [
        {
          "output_type": "stream",
          "text": [
            "[-12776.06445312 -15537.22265625 -15568.49609375 ...\n",
            " -15587.01171875 -15566.0078125  -15608.81835938]\n"
          ],
          "name": "stdout"
        },
        {
          "output_type": "execute_result",
          "data": {
            "text/plain": [
              "[<matplotlib.lines.Line2D at 0x7f0ce64b66d8>]"
            ]
          },
          "metadata": {
            "tags": []
          },
          "execution_count": 24
        },
        {
          "output_type": "display_data",
          "data": {
            "image/png": "[encoded data removed]",
            "text/plain": [
              "<Figure size 432x288 with 1 Axes>"
            ]
          },
          "metadata": {
            "tags": [],
            "needs_background": "light"
          }
        }
      ]
    },
    {
      "cell_type": "code",
      "metadata": {
        "id": "MP1WduNjKkx-",
        "colab_type": "code",
        "colab": {
          "base_uri": "https://localhost:8080/",
          "height": 341
        },
        "outputId": "5cbe21e3-6f77-4689-f4ca-ab3cc8628e3b"
      },
      "source": [
        "med = np.median(test_samples)\n",
        "print(med)\n",
        "avg = np.average(test_samples)\n",
        "print(avg)\n",
        "\n",
        "fig, ax = plt.subplots()\n",
        "ax.hist(test_samples[1:], bins=50)\n",
        "upper_bound = np.percentile(test_samples[1:], 99)\n",
        "lower_bound = np.percentile(test_samples[1:], 1)\n",
        "\n",
        "print(\"0.5: \", lower_bound,\"99.5: \", upper_bound)\n",
        "ax.vlines(upper_bound, 0, 18, colors='r')\n",
        "ax.vlines(lower_bound, 0, 18, colors='r')\n",
        "fig.savefig('Dist.png', dpi=300)"
      ],
      "execution_count": null,
      "outputs": [
        {
          "output_type": "stream",
          "text": [
            "-15572.7587890625\n",
            "-15562.000706380208\n",
            "0.5:  -15623.410527343749 99.5:  -15503.487500000001\n"
          ],
          "name": "stdout"
        },
        {
          "output_type": "display_data",
          "data": {
            "image/png": "[encoded data removed]",
            "text/plain": [
              "<Figure size 432x288 with 1 Axes>"
            ]
          },
          "metadata": {
            "tags": [],
            "needs_background": "light"
          }
        }
      ]
    },
    {
      "cell_type": "code",
      "metadata": {
        "id": "03CtpKn0FMAr",
        "colab_type": "code",
        "colab": {
          "base_uri": "https://localhost:8080/",
          "height": 284
        },
        "outputId": "b1f54b64-5002-4131-a575-835208a7a051"
      },
      "source": [
        "fig, ax = plt.subplots()\n",
        "ax.set_title('Free Energy on Noise')\n",
        "ax.plot(test_samples[1:], label='Free Energy Values')\n",
        "med_line = np.array([med for i in range(len(test_samples[1:]))])\n",
        "upper_line = np.array([upper_bound for i in range(len(test_samples[1:]))])\n",
        "lower_line = np.array([lower_bound for i in range(len(test_samples[1:]))])\n",
        "ax.plot(med_line, color='r', label='Median')\n",
        "ax.fill_between(np.linspace(1,300,299),lower_line, upper_line, alpha=0.2,color='g', label='Threshold')\n",
        "# ax.plot(upper_line, color='r')\n",
        "# ax.plot(lower_line, color='r')\n",
        "ax.legend(loc='lower right')\n",
        "fig.savefig('Corridor.png', dpi=300)"
      ],
      "execution_count": null,
      "outputs": [
        {
          "output_type": "display_data",
          "data": {
            "image/png": "[encoded data removed]",
            "text/plain": [
              "<Figure size 432x288 with 1 Axes>"
            ]
          },
          "metadata": {
            "tags": [],
            "needs_background": "light"
          }
        }
      ]
    },
    {
      "cell_type": "code",
      "metadata": {
        "id": "PNjs2lNJ4b5P",
        "colab_type": "code",
        "colab": {
          "base_uri": "https://localhost:8080/",
          "height": 284
        },
        "outputId": "cfc24232-174d-4ab1-8009-c729e9a37934"
      },
      "source": [
        "event_energies = np.zeros(events.shape[0])\n",
        "for i in range(len(events)):\n",
        "  event_energies[i] = rbm.get_free_energy(events[i])\n",
        "\n",
        "# print(event_energies)\n",
        "# plt.plot(event_energies)\n",
        "\n",
        "annomalies = np.copy(event_energies)\n",
        "normal = np.copy(event_energies)\n",
        "for i in range(len(event_energies)):\n",
        "  if lower_bound < event_energies[i] < upper_bound:\n",
        "    annomalies[i] = np.NaN\n",
        "  else:\n",
        "    normal[i] = np.NaN\n",
        "\n",
        "fig, ax = plt.subplots()\n",
        "ax.set_title('Detected GW')\n",
        "\n",
        "ax.scatter(np.linspace(0,10,11),annomalies, c='r', label='Anomaly')\n",
        "ax.scatter(np.linspace(0,10,11),normal , c='g', label='Normal')\n",
        "med_line = np.array([med for i in range(len(event_energies))])\n",
        "upper_line = np.array([upper_bound for i in range(len(event_energies))])\n",
        "lower_line = np.array([lower_bound for i in range(len(event_energies))])\n",
        "ax.plot(med_line, color='r', label='Median')\n",
        "ax.fill_between(np.linspace(0,10,11),lower_line, upper_line, alpha=0.2,color='g',label='Threshold')\n",
        "ax.legend(loc='lower right')\n",
        "fig.savefig('Annomalies.png', dpi=300)\n"
      ],
      "execution_count": null,
      "outputs": [
        {
          "output_type": "display_data",
          "data": {
            "image/png": "[encoded data removed]",
            "text/plain": [
              "<Figure size 432x288 with 1 Axes>"
            ]
          },
          "metadata": {
            "tags": [],
            "needs_background": "light"
          }
        }
      ]
    }
  ]
}